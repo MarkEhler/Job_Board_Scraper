{
 "cells": [
  {
   "cell_type": "code",
   "execution_count": 1,
   "metadata": {},
   "outputs": [],
   "source": [
    "from time import sleep, strftime\n",
    "from random import randint\n",
    "import pandas as pd\n",
    "from selenium import webdriver\n",
    "from selenium.webdriver.common.keys import Keys\n",
    "import smtplib\n",
    "from email.mime.multipart import MIMEMultipart\n",
    "from bs4 import BeautifulSoup\n",
    "import datetime"
   ]
  },
  {
   "cell_type": "code",
   "execution_count": 2,
   "metadata": {},
   "outputs": [
    {
     "data": {
      "text/plain": [
       "'C:/Users/Mark/Downloads/chromedriver_win32/chromedriver.exe'"
      ]
     },
     "execution_count": 2,
     "metadata": {},
     "output_type": "execute_result"
    }
   ],
   "source": [
    "Me = \"Users/Mark/Downloads\"\n",
    "\n",
    "chromedriver_path = f'C:/{Me}/chromedriver_win32/chromedriver.exe'\n",
    "\n",
    "chromedriver_path"
   ]
  },
  {
   "cell_type": "code",
   "execution_count": 3,
   "metadata": {},
   "outputs": [],
   "source": [
    "driver = webdriver.Chrome(executable_path=chromedriver_path)\n",
    "sleep(2)"
   ]
  },
  {
   "cell_type": "code",
   "execution_count": 5,
   "metadata": {},
   "outputs": [],
   "source": [
    "# update job variable to accept a list\n",
    "\n",
    "job = 'Data Science'\n",
    "city = 'Denver, CO'\n",
    "\n",
    "career_builder = (f'https://www.careerbuilder.com/jobs?utf8=%E2%9C%93&keywords={job}&location={city}')\n",
    "driver.get(career_builder)\n",
    "sleep(2)\n",
    "\n",
    "# example div: <div class=\"data-results-title dark-blue-text b\">Associate Data Scientist</div>\n",
    "leads = []\n",
    "# would like to iterate for every div class=\"data-results-title dark-blue-text b\"\n",
    "for lead in range(1,4):\n",
    "    lead = driver.find_element_by_xpath(f'//*[@id=\"jobs_collection\"]/div[{lead}]/a[2]/div/div[2]/div[1]')\n",
    "    leads.append(lead)\n",
    "#     lead.click()\n",
    "\n",
    "leads[1].click()\n"
   ]
  },
  {
   "cell_type": "code",
   "execution_count": 11,
   "metadata": {},
   "outputs": [
    {
     "ename": "NoSuchElementException",
     "evalue": "Message: no such element: Unable to locate element: {\"method\":\"xpath\",\"selector\":\"//*[@id=\"jdp-data\"]/div[1]/div[2]/div/div[1]/h1\"}\n  (Session info: chrome=75.0.3770.100)\n",
     "output_type": "error",
     "traceback": [
      "\u001b[1;31m---------------------------------------------------------------------------\u001b[0m",
      "\u001b[1;31mNoSuchElementException\u001b[0m                    Traceback (most recent call last)",
      "\u001b[1;32m<ipython-input-11-225afcad2162>\u001b[0m in \u001b[0;36m<module>\u001b[1;34m\u001b[0m\n\u001b[1;32m----> 1\u001b[1;33m \u001b[0mtitle\u001b[0m \u001b[1;33m=\u001b[0m \u001b[0mdriver\u001b[0m\u001b[1;33m.\u001b[0m\u001b[0mfind_element_by_xpath\u001b[0m\u001b[1;33m(\u001b[0m\u001b[1;34m'//*[@id=\"jdp-data\"]/div[1]/div[2]/div/div[1]/h1'\u001b[0m\u001b[1;33m)\u001b[0m\u001b[1;33m.\u001b[0m\u001b[0mtext\u001b[0m\u001b[1;33m\u001b[0m\u001b[1;33m\u001b[0m\u001b[0m\n\u001b[0m\u001b[0;32m      2\u001b[0m \u001b[0mtext\u001b[0m \u001b[1;33m=\u001b[0m \u001b[0mBeautifulSoup\u001b[0m\u001b[1;33m(\u001b[0m\u001b[0mdesc\u001b[0m\u001b[1;33m.\u001b[0m\u001b[0mtext\u001b[0m\u001b[1;33m,\u001b[0m \u001b[1;34m\"html.parser\"\u001b[0m\u001b[1;33m)\u001b[0m\u001b[1;33m\u001b[0m\u001b[1;33m\u001b[0m\u001b[0m\n\u001b[0;32m      3\u001b[0m \u001b[0mtext_str\u001b[0m \u001b[1;33m=\u001b[0m \u001b[0mstr\u001b[0m\u001b[1;33m(\u001b[0m\u001b[0mtext\u001b[0m\u001b[1;33m)\u001b[0m\u001b[1;33m\u001b[0m\u001b[1;33m\u001b[0m\u001b[0m\n\u001b[0;32m      4\u001b[0m \u001b[0mtext_list\u001b[0m \u001b[1;33m=\u001b[0m \u001b[0mtext_str\u001b[0m\u001b[1;33m.\u001b[0m\u001b[0msplit\u001b[0m\u001b[1;33m(\u001b[0m\u001b[1;34m\"\\n\"\u001b[0m\u001b[1;33m)\u001b[0m\u001b[1;33m\u001b[0m\u001b[1;33m\u001b[0m\u001b[0m\n\u001b[0;32m      5\u001b[0m \u001b[0mprint\u001b[0m\u001b[1;33m(\u001b[0m\u001b[1;34mf\"{text_list[0:5]} ...\"\u001b[0m\u001b[1;33m)\u001b[0m\u001b[1;33m\u001b[0m\u001b[1;33m\u001b[0m\u001b[0m\n",
      "\u001b[1;32m~\\AppData\\Local\\Continuum\\anaconda3\\lib\\site-packages\\selenium\\webdriver\\remote\\webdriver.py\u001b[0m in \u001b[0;36mfind_element_by_xpath\u001b[1;34m(self, xpath)\u001b[0m\n\u001b[0;32m    392\u001b[0m             \u001b[0melement\u001b[0m \u001b[1;33m=\u001b[0m \u001b[0mdriver\u001b[0m\u001b[1;33m.\u001b[0m\u001b[0mfind_element_by_xpath\u001b[0m\u001b[1;33m(\u001b[0m\u001b[1;34m'//div/td[1]'\u001b[0m\u001b[1;33m)\u001b[0m\u001b[1;33m\u001b[0m\u001b[1;33m\u001b[0m\u001b[0m\n\u001b[0;32m    393\u001b[0m         \"\"\"\n\u001b[1;32m--> 394\u001b[1;33m         \u001b[1;32mreturn\u001b[0m \u001b[0mself\u001b[0m\u001b[1;33m.\u001b[0m\u001b[0mfind_element\u001b[0m\u001b[1;33m(\u001b[0m\u001b[0mby\u001b[0m\u001b[1;33m=\u001b[0m\u001b[0mBy\u001b[0m\u001b[1;33m.\u001b[0m\u001b[0mXPATH\u001b[0m\u001b[1;33m,\u001b[0m \u001b[0mvalue\u001b[0m\u001b[1;33m=\u001b[0m\u001b[0mxpath\u001b[0m\u001b[1;33m)\u001b[0m\u001b[1;33m\u001b[0m\u001b[1;33m\u001b[0m\u001b[0m\n\u001b[0m\u001b[0;32m    395\u001b[0m \u001b[1;33m\u001b[0m\u001b[0m\n\u001b[0;32m    396\u001b[0m     \u001b[1;32mdef\u001b[0m \u001b[0mfind_elements_by_xpath\u001b[0m\u001b[1;33m(\u001b[0m\u001b[0mself\u001b[0m\u001b[1;33m,\u001b[0m \u001b[0mxpath\u001b[0m\u001b[1;33m)\u001b[0m\u001b[1;33m:\u001b[0m\u001b[1;33m\u001b[0m\u001b[1;33m\u001b[0m\u001b[0m\n",
      "\u001b[1;32m~\\AppData\\Local\\Continuum\\anaconda3\\lib\\site-packages\\selenium\\webdriver\\remote\\webdriver.py\u001b[0m in \u001b[0;36mfind_element\u001b[1;34m(self, by, value)\u001b[0m\n\u001b[0;32m    976\u001b[0m         return self.execute(Command.FIND_ELEMENT, {\n\u001b[0;32m    977\u001b[0m             \u001b[1;34m'using'\u001b[0m\u001b[1;33m:\u001b[0m \u001b[0mby\u001b[0m\u001b[1;33m,\u001b[0m\u001b[1;33m\u001b[0m\u001b[1;33m\u001b[0m\u001b[0m\n\u001b[1;32m--> 978\u001b[1;33m             'value': value})['value']\n\u001b[0m\u001b[0;32m    979\u001b[0m \u001b[1;33m\u001b[0m\u001b[0m\n\u001b[0;32m    980\u001b[0m     \u001b[1;32mdef\u001b[0m \u001b[0mfind_elements\u001b[0m\u001b[1;33m(\u001b[0m\u001b[0mself\u001b[0m\u001b[1;33m,\u001b[0m \u001b[0mby\u001b[0m\u001b[1;33m=\u001b[0m\u001b[0mBy\u001b[0m\u001b[1;33m.\u001b[0m\u001b[0mID\u001b[0m\u001b[1;33m,\u001b[0m \u001b[0mvalue\u001b[0m\u001b[1;33m=\u001b[0m\u001b[1;32mNone\u001b[0m\u001b[1;33m)\u001b[0m\u001b[1;33m:\u001b[0m\u001b[1;33m\u001b[0m\u001b[1;33m\u001b[0m\u001b[0m\n",
      "\u001b[1;32m~\\AppData\\Local\\Continuum\\anaconda3\\lib\\site-packages\\selenium\\webdriver\\remote\\webdriver.py\u001b[0m in \u001b[0;36mexecute\u001b[1;34m(self, driver_command, params)\u001b[0m\n\u001b[0;32m    319\u001b[0m         \u001b[0mresponse\u001b[0m \u001b[1;33m=\u001b[0m \u001b[0mself\u001b[0m\u001b[1;33m.\u001b[0m\u001b[0mcommand_executor\u001b[0m\u001b[1;33m.\u001b[0m\u001b[0mexecute\u001b[0m\u001b[1;33m(\u001b[0m\u001b[0mdriver_command\u001b[0m\u001b[1;33m,\u001b[0m \u001b[0mparams\u001b[0m\u001b[1;33m)\u001b[0m\u001b[1;33m\u001b[0m\u001b[1;33m\u001b[0m\u001b[0m\n\u001b[0;32m    320\u001b[0m         \u001b[1;32mif\u001b[0m \u001b[0mresponse\u001b[0m\u001b[1;33m:\u001b[0m\u001b[1;33m\u001b[0m\u001b[1;33m\u001b[0m\u001b[0m\n\u001b[1;32m--> 321\u001b[1;33m             \u001b[0mself\u001b[0m\u001b[1;33m.\u001b[0m\u001b[0merror_handler\u001b[0m\u001b[1;33m.\u001b[0m\u001b[0mcheck_response\u001b[0m\u001b[1;33m(\u001b[0m\u001b[0mresponse\u001b[0m\u001b[1;33m)\u001b[0m\u001b[1;33m\u001b[0m\u001b[1;33m\u001b[0m\u001b[0m\n\u001b[0m\u001b[0;32m    322\u001b[0m             response['value'] = self._unwrap_value(\n\u001b[0;32m    323\u001b[0m                 response.get('value', None))\n",
      "\u001b[1;32m~\\AppData\\Local\\Continuum\\anaconda3\\lib\\site-packages\\selenium\\webdriver\\remote\\errorhandler.py\u001b[0m in \u001b[0;36mcheck_response\u001b[1;34m(self, response)\u001b[0m\n\u001b[0;32m    240\u001b[0m                 \u001b[0malert_text\u001b[0m \u001b[1;33m=\u001b[0m \u001b[0mvalue\u001b[0m\u001b[1;33m[\u001b[0m\u001b[1;34m'alert'\u001b[0m\u001b[1;33m]\u001b[0m\u001b[1;33m.\u001b[0m\u001b[0mget\u001b[0m\u001b[1;33m(\u001b[0m\u001b[1;34m'text'\u001b[0m\u001b[1;33m)\u001b[0m\u001b[1;33m\u001b[0m\u001b[1;33m\u001b[0m\u001b[0m\n\u001b[0;32m    241\u001b[0m             \u001b[1;32mraise\u001b[0m \u001b[0mexception_class\u001b[0m\u001b[1;33m(\u001b[0m\u001b[0mmessage\u001b[0m\u001b[1;33m,\u001b[0m \u001b[0mscreen\u001b[0m\u001b[1;33m,\u001b[0m \u001b[0mstacktrace\u001b[0m\u001b[1;33m,\u001b[0m \u001b[0malert_text\u001b[0m\u001b[1;33m)\u001b[0m\u001b[1;33m\u001b[0m\u001b[1;33m\u001b[0m\u001b[0m\n\u001b[1;32m--> 242\u001b[1;33m         \u001b[1;32mraise\u001b[0m \u001b[0mexception_class\u001b[0m\u001b[1;33m(\u001b[0m\u001b[0mmessage\u001b[0m\u001b[1;33m,\u001b[0m \u001b[0mscreen\u001b[0m\u001b[1;33m,\u001b[0m \u001b[0mstacktrace\u001b[0m\u001b[1;33m)\u001b[0m\u001b[1;33m\u001b[0m\u001b[1;33m\u001b[0m\u001b[0m\n\u001b[0m\u001b[0;32m    243\u001b[0m \u001b[1;33m\u001b[0m\u001b[0m\n\u001b[0;32m    244\u001b[0m     \u001b[1;32mdef\u001b[0m \u001b[0m_value_or_default\u001b[0m\u001b[1;33m(\u001b[0m\u001b[0mself\u001b[0m\u001b[1;33m,\u001b[0m \u001b[0mobj\u001b[0m\u001b[1;33m,\u001b[0m \u001b[0mkey\u001b[0m\u001b[1;33m,\u001b[0m \u001b[0mdefault\u001b[0m\u001b[1;33m)\u001b[0m\u001b[1;33m:\u001b[0m\u001b[1;33m\u001b[0m\u001b[1;33m\u001b[0m\u001b[0m\n",
      "\u001b[1;31mNoSuchElementException\u001b[0m: Message: no such element: Unable to locate element: {\"method\":\"xpath\",\"selector\":\"//*[@id=\"jdp-data\"]/div[1]/div[2]/div/div[1]/h1\"}\n  (Session info: chrome=75.0.3770.100)\n"
     ]
    }
   ],
   "source": [
    "#now scrape valid info\n",
    "# options.  only get link to site. scrape text and link to site. scrape overview and link to site.  click out of popup for site link.\n",
    "# also have links to the company social availible...\n",
    "\n",
    "desc = driver.find_element_by_xpath('//*[@id=\"jdp_description\"]')\n",
    "\n",
    "title = driver.find_element_by_xpath('//*[@id=\"jdp-data\"]/div[1]/div[2]/div/div[1]/h1').text\n",
    "text = BeautifulSoup(desc.text, \"html.parser\")\n",
    "text_str = str(text)\n",
    "text_list = text_str.split(\"\\n\")\n",
    "print(f\"{text_list[0:5]} ...\")"
   ]
  },
  {
   "cell_type": "code",
   "execution_count": 8,
   "metadata": {},
   "outputs": [],
   "source": [
    "# opening link to hiring website\n",
    "\n",
    "driver.find_element_by_xpath('//*[@id=\"hide-fixed-top\"]/a').click()\n",
    "sleep(2)\n",
    "# maybe a popup will activate\n",
    "try:\n",
    "    driver.find_element_by_id(\"external-apply-no-thanks\").click()\n",
    "except Exception as e:\n",
    "    pass\n",
    "sleep(2)\n",
    "\n",
    "# links to both the recomendation page and the linked to company website\n",
    "\n",
    "links = []\n",
    "for handle in driver.window_handles:\n",
    "    driver.switch_to.window(handle)\n",
    "    links.append(driver.current_url)\n",
    "print(links[1])\n",
    "\n",
    "#  close the company site and return to search results\n",
    "\n",
    "driver.switch_to.window(driver.window_handles[1]);\n",
    "driver.close();\n",
    "driver.switch_to.window(driver.window_handles[0]);\n",
    "driver.get(career_builder)"
   ]
  },
  {
   "cell_type": "code",
   "execution_count": null,
   "metadata": {},
   "outputs": [],
   "source": [
    "def start_search(job, city):\n",
    "    \"\"\"accepts job title and city/zipcode in string format\"\"\"\n",
    "    \n",
    "    career_builder = (f'https://www.careerbuilder.com/jobs?utf8=%E2%9C%93&keywords={job}&location={city}')\n",
    "    driver.get(career_builder)\n",
    "    sleep(randint(8,10))\n",
    "    \n",
    "# example div: <div class=\"data-results-title dark-blue-text b\">Associate Data Scientist</div>\n",
    "    leads = []\n",
    "    # would like to iterate for every div class=\"data-results-title dark-blue-text b\"\n",
    "    for lead in range(1,4):\n",
    "        lead = driver.find_element_by_xpath(f'//*[@id=\"jobs_collection\"]/div[{lead}]/a[2]/div/div[2]/div[1]')\n",
    "        leads.append(lead)\n",
    "\n",
    "#     leads[1].click() <-would like to iterate through every lead in leads using div class rather than range(1,4)\n",
    "    \n",
    "    listed = []\n",
    "    for div in divs:\n",
    "        \"this \"\n",
    "#     set the URL for each lead and point to it before scraping\n",
    "    listed.append(page_scrape())\n",
    "    \n",
    "    # saving a new dataframe as an excel file. the name is custom made to your cities and dates\n",
    "\n",
    "    final_df = listed[0].append(listed[1]).append(listed[2])\n",
    "    final_df.to_excel('search_backups//{}_from_{}.xlsx'.format(strftime(\"%Y%m%d-%H%M\"),\n",
    "                                                            job_site), index=False)\n",
    "    print('saved df.....')\n",
    "    \n",
    "# ~~~~~~~~~~~~~~~~~~~~~~~~~\n",
    "# Haven't ran this code yet\n",
    "    username = 'YOUREMAIL@hotmail.com'\n",
    "    password = 'YOUR PASSWORD'\n",
    "\n",
    "    server = smtplib.SMTP('smtp.outlook.com', 587)\n",
    "    server.ehlo()\n",
    "    server.starttls()\n",
    "    server.login(username, password)\n",
    "    msg = ('Subject: Flight Scraper\\n\\n\\\n",
    "Cheapest Flight: {}\\nAverage Price: {}\\n\\nRecommendation: {}\\n\\nEnd of message'.format(matrix_min, matrix_avg, (loading+'\\n'+prediction)))\n",
    "    message = MIMEMultipart()\n",
    "    message['From'] = 'YOUREMAIL@hotmail.com'\n",
    "    message['to'] = 'YOUROTHEREMAIL@domain.com'\n",
    "    server.sendmail('YOUREMAIL@hotmail.com', 'YOUROTHEREMAIL@domain.com', msg)\n",
    "    print('sent email.....')"
   ]
  },
  {
   "cell_type": "markdown",
   "metadata": {},
   "source": [
    "After looking over a test call we see tangentally associated results.  SEO analyst, data analytics, QA, etc...\n",
    "we want links to pages which actually match with data scientist.\n",
    "\n",
    "here's an example:\n",
    "\n",
    "<div class=\"data-results-title dark-blue-text b\">Associate Data Scientist</div>\n",
    "\n",
    "so lets grab stuff that contains the string mapped to the 'job' variable using\n",
    "where contains job"
   ]
  },
  {
   "cell_type": "code",
   "execution_count": 12,
   "metadata": {},
   "outputs": [
    {
     "ename": "SyntaxError",
     "evalue": "invalid syntax (<ipython-input-12-55b04cdb31a5>, line 1)",
     "output_type": "error",
     "traceback": [
      "\u001b[1;36m  File \u001b[1;32m\"<ipython-input-12-55b04cdb31a5>\"\u001b[1;36m, line \u001b[1;32m1\u001b[0m\n\u001b[1;33m    where contains job\u001b[0m\n\u001b[1;37m                 ^\u001b[0m\n\u001b[1;31mSyntaxError\u001b[0m\u001b[1;31m:\u001b[0m invalid syntax\n"
     ]
    }
   ],
   "source": [
    "# for i in list:\n",
    "#     do something where i contains string from job variable"
   ]
  },
  {
   "cell_type": "code",
   "execution_count": null,
   "metadata": {},
   "outputs": [],
   "source": [
    "def page_scrape():\n",
    "    \"\"\"This function does the scraping \n",
    "    currently working from page to be scraped and with no varible passed to fx\"\"\"\n",
    "    \n",
    "\n",
    "#     sections_list = [page for pages in leads]\n",
    "\n",
    "    # if you run into a reCaptcha, you might want to do something about it\n",
    "    # you will know there's a problem if the lists above are empty\n",
    "    # this if statement lets you exit the bot or do something else\n",
    "    # you can add a sleep here, to let you solve the captcha and continue scraping\n",
    "    # i'm using a SystemExit because i want to test everything from the start\n",
    "#     if section_a_list == []:\n",
    "#         raise SystemExit\n",
    "    \n",
    "    #now scrape valid info\n",
    "    # options.  only get link to site. scrape text and link to site. scrape overview and link to site.  click out of popup for site link.\n",
    "    # also have links to the company social availible...\n",
    "\n",
    "    desc = driver.find_element_by_xpath('//*[@id=\"jdp_description\"]')\n",
    "\n",
    "    title = driver.find_element_by_xpath('//*[@id=\"jdp-data\"]/div[1]/div[2]/div/div[1]/h1').text\n",
    "    text = BeautifulSoup(desc.text, \"html.parser\")\n",
    "    text_str = str(text)\n",
    "    text_list = text_str.split(\"\\n\")\n",
    "    print(f\"{text_list[0:5]} ...\")\n",
    "    \n",
    "    # opening link to hiring website\n",
    "\n",
    "    driver.find_element_by_xpath('//*[@id=\"hide-fixed-top\"]/a').click()\n",
    "    sleep(2)\n",
    "    # maybe trigger a popup\n",
    "    try:\n",
    "        driver.find_element_by_id(\"external-apply-no-thanks\").click()\n",
    "    except Exception as e:\n",
    "        pass\n",
    "    sleep(2)\n",
    "\n",
    "    # links to both the recomendation page and the linked to company website\n",
    "\n",
    "    links = []\n",
    "    for handle in driver.window_handles:\n",
    "        driver.switch_to.window(handle)\n",
    "        links.append(driver.current_url)\n",
    "    print(links[1])\n",
    "\n",
    "    #  close the company site and return to search results\n",
    "\n",
    "    driver.switch_to.window(driver.window_handles[1]);\n",
    "    driver.close();\n",
    "    driver.switch_to.window(driver.window_handles[0]);\n",
    "    driver.get(career_builder)\n",
    "    sleep(3)\n",
    "\n",
    "    \n",
    "    cols = (['Job Title', \"Summary\", \"Link to Company Site\", \"Link to Job Refrence\", \"Day Scraped\"])\n",
    "    vals = {'Job Title': title,\n",
    "           'Summary': text_list,\n",
    "           'Link to Comany Site': links[1],\n",
    "           'Link to Job Refrence': links[0],\n",
    "           'Day Scraped': current_time_pretty}\n",
    "    \n",
    "    jobs_df = pd.DataFrame([vals])\n",
    "\n",
    "    return jobs_df"
   ]
  },
  {
   "cell_type": "code",
   "execution_count": null,
   "metadata": {},
   "outputs": [],
   "source": [
    "# adjust this cell to customize scrape frequency\n",
    "# \n",
    "\n",
    "job = input('What kind of job do you want?')\n",
    "city = input('And in which city? ')\n",
    "\n",
    "\n",
    "\n",
    "for n in range(0,5):\n",
    "    start_search(job=job, city=city)\n",
    "    print('iteration {} was complete @ {}'.format(n, strftime(\"%Y%m%d-%H%M\")))\n",
    "    \n",
    "    # Wait 12 hours\n",
    "    sleep(60*60*12)\n",
    "    print('sleep finished.....')"
   ]
  }
 ],
 "metadata": {
  "kernelspec": {
   "display_name": "Python 3",
   "language": "python",
   "name": "python3"
  },
  "language_info": {
   "codemirror_mode": {
    "name": "ipython",
    "version": 3
   },
   "file_extension": ".py",
   "mimetype": "text/x-python",
   "name": "python",
   "nbconvert_exporter": "python",
   "pygments_lexer": "ipython3",
   "version": "3.6.7"
  }
 },
 "nbformat": 4,
 "nbformat_minor": 2
}
